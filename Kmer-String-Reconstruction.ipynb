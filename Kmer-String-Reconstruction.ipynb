{
 "cells": [
  {
   "cell_type": "markdown",
   "id": "766ba08f-b9f7-4340-9dfc-8c3267bcbafd",
   "metadata": {},
   "source": [
    "-- QUESTION 2 --"
   ]
  },
  {
   "cell_type": "markdown",
   "id": "7029d565-4b03-49c4-822b-74d4a37ab26c",
   "metadata": {},
   "source": [
    "a) An example string of 100 nucleotides is created and k-mers of values 3,4,5,20,30 and 50 are found."
   ]
  },
  {
   "cell_type": "code",
   "execution_count": null,
   "id": "cbe523d3-14a8-41b3-9389-041e96c27214",
   "metadata": {},
   "outputs": [],
   "source": [
    "original_string = \"GTAGATCGTACGTACTAGCGATGCTGAGGACTGATCGACGTAGCTAGCGGATCGATCGAGGACTTCTTTAGCTAGCTAACATGTCGATGCTAGCTAGCTA\"\n",
    "print(len(original_string))"
   ]
  },
  {
   "cell_type": "code",
   "execution_count": null,
   "id": "17c2c155-44f9-4548-9343-08e1cd055957",
   "metadata": {},
   "outputs": [],
   "source": [
    "def kmer_calculator(seq, k):\n",
    "    kmers = []\n",
    "    for i in range(len(seq) - k + 1):\n",
    "        kmer = seq[i:i+k]\n",
    "        kmers.append(kmer)\n",
    "    return kmers"
   ]
  },
  {
   "cell_type": "code",
   "execution_count": null,
   "id": "827d888f-3979-45f3-a5a9-34684b987ef2",
   "metadata": {
    "scrolled": true
   },
   "outputs": [],
   "source": [
    "print(f\"K-mers for k=3: {kmer_calculator(original_string, 3)}\")\n",
    "print(f\"K-mers for k=4: {kmer_calculator(original_string, 4)}\")\n",
    "print(f\"K-mers for k=5: {kmer_calculator(original_string, 5)}\")\n",
    "print(f\"K-mers for k=20: {kmer_calculator(original_string, 20)}\")\n",
    "print(f\"K-mers for k=30: {kmer_calculator(original_string, 30)}\")\n",
    "print(f\"K-mers for k=50: {kmer_calculator(original_string, 50)}\")"
   ]
  },
  {
   "cell_type": "markdown",
   "id": "37435ba6-adec-4709-8a3e-3a3b8108e859",
   "metadata": {},
   "source": [
    "b) Original string is reconstructed using k-mers generated."
   ]
  },
  {
   "cell_type": "code",
   "execution_count": null,
   "id": "01a340b3-5679-4331-a161-d40eba753cea",
   "metadata": {},
   "outputs": [],
   "source": [
    "k3 = kmer_calculator(original_string, 3)\n",
    "k4 = kmer_calculator(original_string, 4)\n",
    "k5 = kmer_calculator(original_string, 5)\n",
    "k20 = kmer_calculator(original_string, 20)\n",
    "k30 = kmer_calculator(original_string, 30)\n",
    "k50 = kmer_calculator(original_string, 50)\n",
    "\n",
    "\n",
    "#Random is imported for shuffling kmers.\n",
    "import random\n",
    "import numpy as np\n",
    "\n",
    "def reconstruct_string_from_kmers(kmers):\n",
    "    # Function to build the Eulerian De Bruijn graph from k-mers and find the start node.\n",
    "    def build_eulerian_de_bruijn_graph(kmers):\n",
    "        graph = {}\n",
    "        indegree = {}\n",
    "        outdegree = {}\n",
    "\n",
    "\n",
    "         # Iterate through each k-mer to build the graph.\n",
    "        for kmer in kmers:\n",
    "            prefix = kmer[:-1]\n",
    "            suffix = kmer[1:]\n",
    "\n",
    "            # Initialize vertex information if not present.\n",
    "            if prefix not in graph:\n",
    "                graph[prefix] = []\n",
    "            if prefix not in outdegree:\n",
    "                outdegree[prefix] = 0\n",
    "            if suffix not in indegree:\n",
    "                indegree[suffix] = 0\n",
    "\n",
    "            # Connect prefix to suffix in the graph.\n",
    "            graph[prefix].append(suffix)\n",
    "            outdegree[prefix] += 1\n",
    "            indegree[suffix] += 1\n",
    "    \n",
    "        # Find potential start and end nodes by comparing in-degrees and out-degrees.\n",
    "        start, end = None, None\n",
    "        for node in set(indegree.keys()).union(outdegree.keys()):\n",
    "            indeg = indegree.get(node, 0)\n",
    "            outdeg = outdegree.get(node, 0)\n",
    "    \n",
    "            if indeg < outdeg:  # More outgoing edges means potential start node.\n",
    "                start = node\n",
    "            elif indeg > outdeg:  # More incoming edges means potential end node.\n",
    "                end = node\n",
    "    \n",
    "        # Addition of an edge from end node to start node to make it Eulerian path.\n",
    "        if start and end:\n",
    "            if end not in graph:\n",
    "                graph[end] = []\n",
    "            graph[end].append(start)\n",
    "    \n",
    "        return graph, start\n",
    "    \n",
    "    def eulerian_cycle(graph, start_vertex):\n",
    "        # Helper function to find a vertex in the cycle with unexplored edges.\n",
    "        def find_new_start(cycle):\n",
    "            for vertex, _ in cycle:\n",
    "                if graph[vertex]:  # If there are unexplored edges.\n",
    "                    return vertex\n",
    "            return None\n",
    "    \n",
    "        # Adjust the starting point of the cycle.\n",
    "        if start_vertex is None or start_vertex not in graph or not graph[start_vertex]:\n",
    "            return []  # No valid start or no edges in the graph.\n",
    "    \n",
    "        cycle = [(start_vertex, graph[start_vertex].pop())]\n",
    "        current_vertex = cycle[0][1]\n",
    "    \n",
    "        # Continue walking randomly until the start vertex is reached as algorithm suggests.\n",
    "        while current_vertex != start_vertex:\n",
    "            next_vertex = graph[current_vertex].pop()\n",
    "            cycle.append((current_vertex, next_vertex))\n",
    "            current_vertex = next_vertex\n",
    "    \n",
    "        # Continue forming the cycle until all edges are visited.\n",
    "        while any(graph.values()):\n",
    "            new_start = find_new_start(cycle)\n",
    "            if new_start is None:\n",
    "                break  # No unexplored edges left in the cycle.\n",
    "    \n",
    "            # Start a new cycle from the new start vertex.\n",
    "            current_vertex = new_start\n",
    "            new_cycle = [(current_vertex, graph[current_vertex].pop())]\n",
    "            current_vertex = new_cycle[0][1]\n",
    "    \n",
    "            # Complete the new cycle.\n",
    "            while current_vertex != new_start:\n",
    "                next_vertex = graph[current_vertex].pop()\n",
    "                new_cycle.append((current_vertex, next_vertex))\n",
    "                current_vertex = next_vertex\n",
    "    \n",
    "            # Find the index to merge the new cycle into the original cycle.\n",
    "            merge_index = next(i for i, edge in enumerate(cycle) if edge[0] == new_start)\n",
    "            cycle = cycle[:merge_index] + new_cycle + cycle[merge_index:]\n",
    "    \n",
    "        return cycle\n",
    "    \n",
    "    \n",
    "    #To be sure that the algorithm doesn't just add the serial kmers that are already in order, we shuffle the kmers.\n",
    "    random.shuffle(kmers)\n",
    "    \n",
    "    # Generate the Eulerian De Bruijn graph and find the start node. \n",
    "    de_bruijn_graph, start_node = build_eulerian_de_bruijn_graph(kmers)\n",
    "        \n",
    "    # Find the Eulerian cycle starting from the start node.\n",
    "    eulerian_cycle = eulerian_cycle(de_bruijn_graph, start_node)\n",
    "        \n",
    "    #The edge between the last node of eulerian cycle and start node is removed to create the eulerian path.\n",
    "    eulerian_path = eulerian_cycle[:-1] \n",
    "    reconstructed_string = ''\n",
    "    reconstructed_string += eulerian_path[0][0]\n",
    "    for _, suffix in eulerian_path:\n",
    "        reconstructed_string += suffix[-1]\n",
    "\n",
    "    return reconstructed_string\n",
    "    \n",
    "\n",
    "print(reconstruct_string_from_kmers(k3))\n",
    "print(reconstruct_string_from_kmers(k4))\n",
    "print(reconstruct_string_from_kmers(k5))\n",
    "print(reconstruct_string_from_kmers(k20))\n",
    "print(reconstruct_string_from_kmers(k30))\n",
    "print(reconstruct_string_from_kmers(k50))\n",
    "\n",
    "# Calculate percent identity with the original string.\n",
    "# Change the k-mer length by changing k3,k4,k5....\n",
    "matching_positions = sum(original_string[i] == reconstruct_string_from_kmers(k3)[i] for i in range(len(original_string)))\n",
    "percent_identity = (matching_positions / len(original_string)) * 100\n",
    "print(f\"Percent Identity for k=3: {percent_identity:.2f}%\")\n"
   ]
  },
  {
   "cell_type": "markdown",
   "id": "a5c864b0-c0fe-4880-a6e8-0821b5617ca3",
   "metadata": {},
   "source": [
    "c) I used De Bruijn Graph with Eulerian path reconstruction algorithm to reconstruct DNA sequences using k-mers. The reconstruction process involves shuffling the k-mers to prevent bias, constructing an Eulerian De Bruijn graph from the shuffled k-mers, and then finding an Eulerian cycle in the graph. We are trying to create a balanced graph which avoids already visited edges by randomly walking. The last edge in the Eulerian cycle is removed to create an Eulerian path, representing the reconstructed DNA sequence. The code prints the reconstructed sequences for different k-mer lengths (3,4,5,20,30,50) and provides insights into the efficiency of the reconstruction algorithm for various fragment sizes. "
   ]
  },
  {
   "cell_type": "markdown",
   "id": "16ee7307-c585-402b-8a3b-d81106ebc853",
   "metadata": {},
   "source": [
    "d) The reconstructed string doesn't always match the original one as can be concluded from the percent identities with the original string. As the kmer length increases, the similarity to original string increases. It is expected because long kmers give more information about the sequence while handling short kmers is hard since the possibilities also increase."
   ]
  }
 ],
 "metadata": {
  "kernelspec": {
   "display_name": "Python 3 (ipykernel)",
   "language": "python",
   "name": "python3"
  },
  "language_info": {
   "codemirror_mode": {
    "name": "ipython",
    "version": 3
   },
   "file_extension": ".py",
   "mimetype": "text/x-python",
   "name": "python",
   "nbconvert_exporter": "python",
   "pygments_lexer": "ipython3",
   "version": "3.11.5"
  }
 },
 "nbformat": 4,
 "nbformat_minor": 5
}
